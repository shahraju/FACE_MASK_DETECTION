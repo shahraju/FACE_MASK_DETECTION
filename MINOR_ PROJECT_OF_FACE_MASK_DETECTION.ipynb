{
 "cells": [
  {
   "cell_type": "markdown",
   "id": "9e7757aa",
   "metadata": {},
   "source": [
    "## LIVE FACE MASK DETECTION"
   ]
  },
  {
   "cell_type": "code",
   "execution_count": 1,
   "id": "d5f40800",
   "metadata": {},
   "outputs": [],
   "source": [
    "import numpy as np\n",
    "import cv2"
   ]
  },
  {
   "cell_type": "code",
   "execution_count": 2,
   "id": "ee33b72c",
   "metadata": {},
   "outputs": [],
   "source": [
    "with_mask = np.load('with_mask.npy')\n",
    "without_mask = np.load('without_mask.npy')"
   ]
  },
  {
   "cell_type": "code",
   "execution_count": 3,
   "id": "c4ebc074",
   "metadata": {},
   "outputs": [
    {
     "data": {
      "text/plain": [
       "(200, 50, 50, 3)"
      ]
     },
     "execution_count": 3,
     "metadata": {},
     "output_type": "execute_result"
    }
   ],
   "source": [
    "with_mask.shape"
   ]
  },
  {
   "cell_type": "code",
   "execution_count": 4,
   "id": "933b424e",
   "metadata": {},
   "outputs": [
    {
     "data": {
      "text/plain": [
       "(200, 50, 50, 3)"
      ]
     },
     "execution_count": 4,
     "metadata": {},
     "output_type": "execute_result"
    }
   ],
   "source": [
    "without_mask.shape"
   ]
  },
  {
   "cell_type": "code",
   "execution_count": 5,
   "id": "b2ca4598",
   "metadata": {},
   "outputs": [],
   "source": [
    "with_mask = with_mask.reshape(200,50 * 50 * 3)\n",
    "without_mask = without_mask.reshape(200,50 * 50 * 3)"
   ]
  },
  {
   "cell_type": "code",
   "execution_count": 6,
   "id": "34b2046c",
   "metadata": {},
   "outputs": [
    {
     "data": {
      "text/plain": [
       "(200, 7500)"
      ]
     },
     "execution_count": 6,
     "metadata": {},
     "output_type": "execute_result"
    }
   ],
   "source": [
    "with_mask.shape"
   ]
  },
  {
   "cell_type": "code",
   "execution_count": 7,
   "id": "638a9bf0",
   "metadata": {},
   "outputs": [
    {
     "data": {
      "text/plain": [
       "(200, 7500)"
      ]
     },
     "execution_count": 7,
     "metadata": {},
     "output_type": "execute_result"
    }
   ],
   "source": [
    "without_mask.shape"
   ]
  },
  {
   "cell_type": "code",
   "execution_count": 8,
   "id": "7b42561b",
   "metadata": {},
   "outputs": [],
   "source": [
    "X = np.r_[with_mask, without_mask]"
   ]
  },
  {
   "cell_type": "code",
   "execution_count": 9,
   "id": "9820b81c",
   "metadata": {},
   "outputs": [
    {
     "data": {
      "text/plain": [
       "(400, 7500)"
      ]
     },
     "execution_count": 9,
     "metadata": {},
     "output_type": "execute_result"
    }
   ],
   "source": [
    "X.shape"
   ]
  },
  {
   "cell_type": "code",
   "execution_count": 10,
   "id": "9917bf3b",
   "metadata": {},
   "outputs": [],
   "source": [
    "labels = np.zeros(X.shape[0])"
   ]
  },
  {
   "cell_type": "code",
   "execution_count": 11,
   "id": "83a80d93",
   "metadata": {},
   "outputs": [],
   "source": [
    "labels[200:] = 1.0"
   ]
  },
  {
   "cell_type": "code",
   "execution_count": 12,
   "id": "044b8918",
   "metadata": {},
   "outputs": [],
   "source": [
    "names = {0:' MASK', 1 : ' NO MASK'}"
   ]
  },
  {
   "cell_type": "code",
   "execution_count": 13,
   "id": "eb1ea9e6",
   "metadata": {},
   "outputs": [],
   "source": [
    "from sklearn.svm import SVC\n",
    "from sklearn.metrics import accuracy_score"
   ]
  },
  {
   "cell_type": "code",
   "execution_count": 14,
   "id": "9d0134f3",
   "metadata": {},
   "outputs": [],
   "source": [
    "from sklearn.model_selection import train_test_split"
   ]
  },
  {
   "cell_type": "code",
   "execution_count": 15,
   "id": "b0b6a118",
   "metadata": {},
   "outputs": [],
   "source": [
    "x_train, x_test , y_train , y_test = train_test_split(X,labels, test_size=0.35)"
   ]
  },
  {
   "cell_type": "code",
   "execution_count": 16,
   "id": "33db3553",
   "metadata": {},
   "outputs": [
    {
     "data": {
      "text/plain": [
       "(260, 7500)"
      ]
     },
     "execution_count": 16,
     "metadata": {},
     "output_type": "execute_result"
    }
   ],
   "source": [
    "x_train.shape"
   ]
  },
  {
   "cell_type": "code",
   "execution_count": 17,
   "id": "88239549",
   "metadata": {},
   "outputs": [],
   "source": [
    "from sklearn.decomposition import PCA"
   ]
  },
  {
   "cell_type": "code",
   "execution_count": null,
   "id": "cfad3821",
   "metadata": {},
   "outputs": [],
   "source": []
  },
  {
   "cell_type": "code",
   "execution_count": 18,
   "id": "38045141",
   "metadata": {},
   "outputs": [
    {
     "data": {
      "text/plain": [
       "array([255,   0, 255, ..., 250,  23, 255], dtype=uint8)"
      ]
     },
     "execution_count": 18,
     "metadata": {},
     "output_type": "execute_result"
    }
   ],
   "source": [
    "x_train[0]"
   ]
  },
  {
   "cell_type": "code",
   "execution_count": 19,
   "id": "38502517",
   "metadata": {},
   "outputs": [
    {
     "data": {
      "text/plain": [
       "(260, 7500)"
      ]
     },
     "execution_count": 19,
     "metadata": {},
     "output_type": "execute_result"
    }
   ],
   "source": [
    "x_train.shape"
   ]
  },
  {
   "cell_type": "code",
   "execution_count": 20,
   "id": "992136da",
   "metadata": {},
   "outputs": [
    {
     "data": {
      "text/plain": [
       "(140, 7500)"
      ]
     },
     "execution_count": 20,
     "metadata": {},
     "output_type": "execute_result"
    }
   ],
   "source": [
    "x_test.shape"
   ]
  },
  {
   "cell_type": "code",
   "execution_count": 21,
   "id": "27990009",
   "metadata": {},
   "outputs": [],
   "source": [
    "x_train, x_test , y_train , y_test = train_test_split(X,labels, test_size=0.25)"
   ]
  },
  {
   "cell_type": "code",
   "execution_count": 22,
   "id": "34ce1174",
   "metadata": {},
   "outputs": [
    {
     "data": {
      "text/plain": [
       "SVC()"
      ]
     },
     "execution_count": 22,
     "metadata": {},
     "output_type": "execute_result"
    }
   ],
   "source": [
    "svm =SVC()\n",
    "svm.fit(x_train,y_train)"
   ]
  },
  {
   "cell_type": "code",
   "execution_count": 23,
   "id": "06607754",
   "metadata": {},
   "outputs": [],
   "source": [
    "y_pred = svm.predict(x_test)"
   ]
  },
  {
   "cell_type": "code",
   "execution_count": 24,
   "id": "eb0db1fc",
   "metadata": {},
   "outputs": [
    {
     "data": {
      "text/plain": [
       "0.99"
      ]
     },
     "execution_count": 24,
     "metadata": {},
     "output_type": "execute_result"
    }
   ],
   "source": [
    "accuracy_score(y_test , y_pred)"
   ]
  },
  {
   "cell_type": "code",
   "execution_count": null,
   "id": "4a03d4d2",
   "metadata": {},
   "outputs": [
    {
     "name": "stdout",
     "output_type": "stream",
     "text": [
      " NO MASK\n",
      " NO MASK\n",
      " NO MASK\n",
      " NO MASK\n",
      " NO MASK\n",
      " NO MASK\n",
      " NO MASK\n",
      " NO MASK\n",
      " NO MASK\n",
      " NO MASK\n",
      " NO MASK\n",
      " NO MASK\n",
      " NO MASK\n",
      " NO MASK\n",
      " NO MASK\n",
      " NO MASK\n",
      " NO MASK\n",
      " NO MASK\n",
      " NO MASK\n",
      " NO MASK\n",
      " NO MASK\n",
      " NO MASK\n",
      " NO MASK\n",
      " NO MASK\n",
      " NO MASK\n",
      " NO MASK\n",
      " NO MASK\n",
      " NO MASK\n",
      " NO MASK\n",
      " NO MASK\n",
      " NO MASK\n",
      " NO MASK\n",
      " NO MASK\n",
      " NO MASK\n",
      " NO MASK\n",
      " NO MASK\n",
      " NO MASK\n",
      " NO MASK\n",
      " NO MASK\n",
      " NO MASK\n",
      " NO MASK\n",
      " NO MASK\n",
      " NO MASK\n",
      " NO MASK\n",
      " NO MASK\n",
      " NO MASK\n",
      " NO MASK\n",
      " NO MASK\n",
      " NO MASK\n",
      " NO MASK\n",
      " NO MASK\n",
      " NO MASK\n",
      " NO MASK\n",
      " NO MASK\n",
      " NO MASK\n",
      " NO MASK\n",
      " NO MASK\n",
      " NO MASK\n",
      " NO MASK\n",
      " NO MASK\n",
      " NO MASK\n",
      " NO MASK\n",
      " NO MASK\n",
      " NO MASK\n",
      " NO MASK\n",
      " NO MASK\n",
      " NO MASK\n",
      " NO MASK\n",
      " NO MASK\n",
      " NO MASK\n",
      " NO MASK\n",
      " NO MASK\n",
      " NO MASK\n",
      " NO MASK\n",
      " NO MASK\n",
      " NO MASK\n",
      " NO MASK\n",
      " NO MASK\n",
      " NO MASK\n",
      " NO MASK\n",
      " NO MASK\n",
      " NO MASK\n",
      " NO MASK\n",
      " NO MASK\n",
      " NO MASK\n",
      " NO MASK\n",
      " NO MASK\n",
      " NO MASK\n",
      " NO MASK\n",
      " NO MASK\n",
      " NO MASK\n",
      " NO MASK\n",
      " NO MASK\n",
      " NO MASK\n",
      " NO MASK\n",
      " NO MASK\n",
      " NO MASK\n",
      " NO MASK\n",
      " NO MASK\n",
      " NO MASK\n",
      " NO MASK\n",
      " NO MASK\n",
      " NO MASK\n",
      " NO MASK\n",
      " NO MASK\n",
      " NO MASK\n",
      " NO MASK\n",
      " NO MASK\n",
      " NO MASK\n",
      " NO MASK\n",
      " NO MASK\n",
      " NO MASK\n",
      " NO MASK\n",
      " NO MASK\n",
      " NO MASK\n",
      " NO MASK\n",
      " NO MASK\n",
      " NO MASK\n",
      " NO MASK\n",
      " NO MASK\n",
      " NO MASK\n",
      " NO MASK\n",
      " NO MASK\n",
      " NO MASK\n",
      " NO MASK\n",
      " NO MASK\n",
      " NO MASK\n",
      " NO MASK\n",
      " NO MASK\n",
      " NO MASK\n",
      " NO MASK\n",
      " NO MASK\n",
      " NO MASK\n",
      " NO MASK\n",
      " NO MASK\n",
      " NO MASK\n",
      " NO MASK\n",
      " NO MASK\n",
      " NO MASK\n",
      " NO MASK\n",
      " NO MASK\n",
      " NO MASK\n",
      " NO MASK\n",
      " NO MASK\n",
      " NO MASK\n",
      " NO MASK\n",
      " NO MASK\n",
      " NO MASK\n",
      " NO MASK\n",
      " NO MASK\n",
      " NO MASK\n",
      " NO MASK\n",
      " NO MASK\n",
      " NO MASK\n",
      " NO MASK\n",
      " NO MASK\n",
      " NO MASK\n",
      " NO MASK\n",
      " NO MASK\n",
      " NO MASK\n",
      " NO MASK\n",
      " NO MASK\n",
      " NO MASK\n",
      " NO MASK\n",
      " NO MASK\n",
      " NO MASK\n",
      " NO MASK\n",
      " NO MASK\n",
      " NO MASK\n",
      " NO MASK\n",
      " NO MASK\n",
      " NO MASK\n",
      " NO MASK\n",
      " NO MASK\n",
      " NO MASK\n",
      " NO MASK\n",
      " NO MASK\n",
      " NO MASK\n",
      " NO MASK\n",
      " NO MASK\n",
      " NO MASK\n",
      " NO MASK\n",
      " NO MASK\n",
      " NO MASK\n",
      " NO MASK\n",
      " NO MASK\n",
      " NO MASK\n",
      " NO MASK\n",
      " NO MASK\n",
      " NO MASK\n",
      " NO MASK\n",
      " NO MASK\n",
      " NO MASK\n",
      " NO MASK\n",
      " NO MASK\n",
      " NO MASK\n",
      " NO MASK\n",
      " NO MASK\n",
      " NO MASK\n",
      " NO MASK\n",
      " NO MASK\n",
      " NO MASK\n",
      " NO MASK\n",
      " NO MASK\n",
      " NO MASK\n",
      " NO MASK\n",
      " NO MASK\n",
      " NO MASK\n",
      " NO MASK\n",
      " NO MASK\n",
      " NO MASK\n",
      " NO MASK\n",
      " NO MASK\n",
      " NO MASK\n",
      " NO MASK\n",
      " NO MASK\n",
      " NO MASK\n",
      " NO MASK\n",
      " NO MASK\n",
      " NO MASK\n",
      " NO MASK\n",
      " NO MASK\n",
      " NO MASK\n",
      " NO MASK\n",
      " NO MASK\n",
      " NO MASK\n",
      " NO MASK\n",
      " NO MASK\n",
      " NO MASK\n",
      " NO MASK\n",
      " NO MASK\n",
      " NO MASK\n",
      " NO MASK\n",
      " NO MASK\n",
      " NO MASK\n",
      " NO MASK\n",
      " MASK\n",
      " NO MASK\n",
      " NO MASK\n",
      " MASK\n",
      " MASK\n",
      " NO MASK\n",
      " MASK\n",
      " MASK\n",
      " MASK\n",
      " MASK\n",
      " MASK\n",
      " MASK\n",
      " NO MASK\n",
      " NO MASK\n",
      " NO MASK\n",
      " NO MASK\n",
      " NO MASK\n",
      " NO MASK\n",
      " NO MASK\n",
      " NO MASK\n",
      " NO MASK\n",
      " NO MASK\n",
      " MASK\n",
      " NO MASK\n",
      " MASK\n",
      " MASK\n",
      " MASK\n",
      " MASK\n",
      " MASK\n",
      " MASK\n",
      " MASK\n",
      " MASK\n",
      " MASK\n",
      " MASK\n",
      " MASK\n",
      " MASK\n",
      " MASK\n",
      " NO MASK\n",
      " NO MASK\n",
      " NO MASK\n",
      " NO MASK\n",
      " NO MASK\n",
      " NO MASK\n",
      " NO MASK\n",
      " NO MASK\n",
      " MASK\n",
      " MASK\n",
      " MASK\n",
      " MASK\n",
      " MASK\n",
      " MASK\n",
      " MASK\n",
      " MASK\n",
      " MASK\n",
      " MASK\n",
      " MASK\n",
      " MASK\n",
      " MASK\n",
      " MASK\n",
      " MASK\n",
      " MASK\n",
      " MASK\n",
      " MASK\n",
      " MASK\n",
      " MASK\n",
      " MASK\n",
      " MASK\n",
      " MASK\n",
      " MASK\n",
      " MASK\n",
      " MASK\n",
      " MASK\n",
      " MASK\n",
      " MASK\n",
      " MASK\n",
      " MASK\n",
      " MASK\n",
      " MASK\n",
      " MASK\n",
      " MASK\n",
      " MASK\n",
      " MASK\n",
      " MASK\n",
      " MASK\n",
      " MASK\n",
      " MASK\n",
      " MASK\n",
      " MASK\n",
      " MASK\n",
      " MASK\n",
      " MASK\n",
      " MASK\n",
      " MASK\n",
      " MASK\n",
      " MASK\n",
      " MASK\n",
      " MASK\n",
      " MASK\n",
      " MASK\n",
      " MASK\n",
      " NO MASK\n",
      " MASK\n"
     ]
    }
   ],
   "source": [
    "haar_data = cv2.CascadeClassifier('C:\\\\Users\\\\MY PC\\\\Desktop\\\\minor_project_of_ml\\\\haarcascade_frontalface_default.xml')\n",
    "capture = cv2.VideoCapture(0)\n",
    "data = []\n",
    "font = cv2.FONT_HERSHEY_COMPLEX\n",
    "while True:\n",
    "    flag, img = capture.read()\n",
    "    if flag:\n",
    "        faces = haar_data.detectMultiScale(img)\n",
    "        for x,y,w,h in faces:\n",
    "            cv2.rectangle(img,(x,y),(x+w, y+h),(200,0,200),4)\n",
    "            face = img[y:y+h, x:x+w, :]\n",
    "            face = cv2.resize(face, (50,50))\n",
    "            face = face.reshape(1,-1)\n",
    "            pred= svm.predict(face)\n",
    "            n = names [int(pred)]\n",
    "            cv2.putText(img, n, (x,y),font,1,(0,150,250),2)\n",
    "            print(n)\n",
    "        cv2.imshow('result',img)\n",
    "        if cv2.waitKey(2)==27:\n",
    "            break\n",
    "capture.release()            \n",
    "cv2.destroyAllWindows()"
   ]
  },
  {
   "cell_type": "code",
   "execution_count": null,
   "id": "06577199",
   "metadata": {},
   "outputs": [],
   "source": []
  }
 ],
 "metadata": {
  "kernelspec": {
   "display_name": "Python 3",
   "language": "python",
   "name": "python3"
  },
  "language_info": {
   "codemirror_mode": {
    "name": "ipython",
    "version": 3
   },
   "file_extension": ".py",
   "mimetype": "text/x-python",
   "name": "python",
   "nbconvert_exporter": "python",
   "pygments_lexer": "ipython3",
   "version": "3.8.8"
  }
 },
 "nbformat": 4,
 "nbformat_minor": 5
}
